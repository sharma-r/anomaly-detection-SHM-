{
 "cells": [
  {
   "cell_type": "code",
   "execution_count": 57,
   "metadata": {},
   "outputs": [],
   "source": [
    "import numpy as np\n",
    "import matplotlib.pyplot as plt\n",
    "import scipy.io as sio\n",
    "import math"
   ]
  },
  {
   "cell_type": "code",
   "execution_count": 58,
   "metadata": {},
   "outputs": [],
   "source": [
    "dataset = sio.loadmat('anomalyData.mat')\n"
   ]
  },
  {
   "cell_type": "code",
   "execution_count": 59,
   "metadata": {},
   "outputs": [],
   "source": [
    "X=dataset['X']\n"
   ]
  },
  {
   "cell_type": "code",
   "execution_count": 60,
   "metadata": {},
   "outputs": [
    {
     "data": {
      "text/plain": [
       "<matplotlib.collections.PathCollection at 0x110c96a58>"
      ]
     },
     "execution_count": 60,
     "metadata": {},
     "output_type": "execute_result"
    },
    {
     "data": {
      "image/png": "[encoded data removed]",
      "text/plain": [
       "<Figure size 432x288 with 1 Axes>"
      ]
     },
     "metadata": {},
     "output_type": "display_data"
    }
   ],
   "source": [
    "plt.scatter(X[:,0],X[:,1],marker=\"x\")"
   ]
  },
  {
   "cell_type": "code",
   "execution_count": 61,
   "metadata": {},
   "outputs": [],
   "source": [
    "def gaussdist(X):\n",
    "    m=X.shape[0]      #no.of examples\n",
    "    n=X.shape[1]      #no.of features\n",
    "    mean=np.reshape((1/m)*np.sum(X, 0), (1, n))\n",
    "    var=np.reshape((1/m)*np.sum(np.power((X - mean),2), 0),(1, n))\n",
    "    \n",
    "    return mean, var\n",
    "\n",
    "mean,var = gaussdist(X)"
   ]
  },
  {
   "cell_type": "code",
   "execution_count": 76,
   "metadata": {},
   "outputs": [
    {
     "name": "stdout",
     "output_type": "stream",
     "text": [
      "[[14.11222578 14.99771051]]\n",
      "[[1.83263141 1.70974533]]\n"
     ]
    }
   ],
   "source": [
    "print (mean)\n",
    "print (var)"
   ]
  },
  {
   "cell_type": "code",
   "execution_count": 133,
   "metadata": {},
   "outputs": [],
   "source": [
    "def multivariateGaussian(X,mean,var): \n",
    "    n = np.size(var, 1)\n",
    "    m = np.size(var, 0)\n",
    "    if n==1 or m==1:\n",
    "        var=np.diag(var[0,:])\n",
    "    vdet=np.linalg.det(var)\n",
    "    vinv=np.linalg.inv(var)\n",
    "    X=X-mean\n",
    "    #print(X.shape)\n",
    "    temp=np.dot(X,vinv)\n",
    "    temp=temp*X\n",
    "    temp=np.reshape((-0.5)*np.sum(temp,1),(np.size(X,0),1))\n",
    "    #temp = np.reshape((-0.5)*np.sum(np.multiply((X@vinv),X), 1),(np.size(X, 0), 1))\n",
    "   \n",
    "    probs=np.power(2*math.pi,-n/2)*np.power(vdet,-0.5)*np.exp(temp)\n",
    "    return probs\n",
    "prev=multivariateGaussian(X,mean,var) \n",
    "#print(p.shape[0])\n",
    "    "
   ]
  },
  {
   "cell_type": "code",
   "execution_count": 134,
   "metadata": {},
   "outputs": [],
   "source": [
    "Xval=dataset['Xval']\n",
    "yval=dataset['yval']\n",
    "p=multivariateGaussian(Xval,mean,var)\n"
   ]
  },
  {
   "cell_type": "code",
   "execution_count": 135,
   "metadata": {},
   "outputs": [],
   "source": [
    "def findthreshold(yval,p):\n",
    "    step=(np.max(p) - np.min(p))\n",
    "    step=step/1000\n",
    "    epsilons=np.arange(np.min(p),np.max(p),step)\n",
    "    \n",
    "    f1=0\n",
    "    maxf1=0\n",
    "    maxep=0\n",
    "    \n",
    "    for i in range(len(epsilons)):\n",
    "        epsilon=epsilons[i]\n",
    "        prediction=(p<epsilon)\n",
    "        precision=0\n",
    "        recall=0\n",
    "        tp,fp,fn=0,0,0\n",
    "        \n",
    "        for j in range(p.shape[0]):\n",
    "            if (prediction[j]==1 and yval[j]==1):\n",
    "                tp+=1\n",
    "            elif (prediction[j]==1 and yval[j]==0):\n",
    "                fp+=1\n",
    "            elif (prediction[j]==0 and yval[j]==1):   \n",
    "                fn+=1\n",
    "        if(tp+fp!=0):\n",
    "            precision=tp/(tp+fp)\n",
    "        if(tp+fn!=0):\n",
    "            recall=tp/(tp+fn) \n",
    "        if(precision+recall!=0):    \n",
    "            f1=(2*precision*recall)/(precision+recall)  \n",
    "        if (f1>maxf1):\n",
    "            maxf1=f1\n",
    "            maxep=epsilon\n",
    "    return maxf1, maxep\n",
    "F1, epsilon = findthreshold(yval, p)\n",
    "#print('Epsilon and F1 are:',epsilon, F1)"
   ]
  },
  {
   "cell_type": "code",
   "execution_count": 136,
   "metadata": {},
   "outputs": [
    {
     "name": "stdout",
     "output_type": "stream",
     "text": [
      "6\n",
      "[300, 301, 303, 304, 305, 306]\n"
     ]
    }
   ],
   "source": [
    "prev=multivariateGaussian(X,mean,var) \n",
    "def findoutliers():\n",
    "    list_outliers=[]\n",
    "    arr=(prev<epsilon)\n",
    "    count=0;\n",
    "    for i in range(len(arr)):\n",
    "        if(arr[i]):\n",
    "            list_outliers.append(i);\n",
    "            count+=1\n",
    "    return count,list_outliers\n",
    "\n",
    "c,le=findoutliers()\n",
    "print (c)\n",
    "print (le)"
   ]
  },
  {
   "cell_type": "code",
   "execution_count": 137,
   "metadata": {},
   "outputs": [
    {
     "data": {
      "image/png": "[encoded data removed]",
      "text/plain": [
       "<Figure size 432x288 with 1 Axes>"
      ]
     },
     "metadata": {},
     "output_type": "display_data"
    }
   ],
   "source": [
    "plt.scatter(X[:, 0], X[:, 1], marker = \"x\")\n",
    "plt.xlabel('Latency(ms)')\n",
    "plt.ylabel('Throughput(mb/s)')\n",
    "plt.scatter(X[le,0], X[le, 1], facecolors = 'none', edgecolors = 'r')\n",
    "plt.show()"
   ]
  },
  {
   "cell_type": "code",
   "execution_count": null,
   "metadata": {},
   "outputs": [],
   "source": []
  }
 ],
 "metadata": {
  "kernelspec": {
   "display_name": "Python 3",
   "language": "python",
   "name": "python3"
  },
  "language_info": {
   "codemirror_mode": {
    "name": "ipython",
    "version": 3
   },
   "file_extension": ".py",
   "mimetype": "text/x-python",
   "name": "python",
   "nbconvert_exporter": "python",
   "pygments_lexer": "ipython3",
   "version": "3.6.4"
  }
 },
 "nbformat": 4,
 "nbformat_minor": 2
}
